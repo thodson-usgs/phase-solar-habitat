{
 "cells": [
  {
   "cell_type": "markdown",
   "id": "5a0c9dd0-1a36-44c5-8f48-af72f2ba943e",
   "metadata": {},
   "source": [
    "# Title\n",
    "Some text here"
   ]
  },
  {
   "cell_type": "code",
   "execution_count": null,
   "id": "4eacf2be-41d2-472b-a72c-60abde5c2d8d",
   "metadata": {},
   "outputs": [],
   "source": [
    "import pandas as pd"
   ]
  }
 ],
 "metadata": {
  "kernelspec": {
   "display_name": "users-pangeo",
   "language": "python",
   "name": "conda-env-users-pangeo-py"
  },
  "language_info": {
   "codemirror_mode": {
    "name": "ipython",
    "version": 3
   },
   "file_extension": ".py",
   "mimetype": "text/x-python",
   "name": "python",
   "nbconvert_exporter": "python",
   "pygments_lexer": "ipython3",
   "version": "3.9.13"
  }
 },
 "nbformat": 4,
 "nbformat_minor": 5
}
